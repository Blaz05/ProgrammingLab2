{
 "cells": [
  {
   "cell_type": "markdown",
   "metadata": {},
   "source": [
    "### **1. Trasformare cicli in list comprehension**\n",
    "\n",
    "Fai tre esempi di cicli producono una lista e poi riscrivi lo stesso codice usando la list comprehension"
   ]
  },
  {
   "cell_type": "code",
   "execution_count": null,
   "metadata": {},
   "outputs": [
    {
     "name": "stdout",
     "output_type": "stream",
     "text": [
      "[0, 1, 2, 3, 4, 5, 6, 7, 8, 9, 10, 11, 12, 13, 14, 15, 16, 17, 18, 19]\n",
      "[0, 1, 4, 9, 16, 25, 36, 49, 64, 81]\n",
      "['CIAO MONDO']\n"
     ]
    },
    {
     "data": {
      "text/plain": [
       "range(4, 11)"
      ]
     },
     "execution_count": 28,
     "metadata": {},
     "output_type": "execute_result"
    }
   ],
   "source": [
    "lista = []\n",
    "for i in range(20):\n",
    "    lista.append(i)\n",
    "\n",
    "quadrati = []\n",
    "for i in range(10):\n",
    "    quadrati.append(i**2)\n",
    "\n",
    "lower = [\"ciao mondo\"]\n",
    "upper = []\n",
    "for lettera in lower:\n",
    "    upper.append(lettera.upper())\n",
    "\n",
    "\n",
    "lcl = [i for i in range(20)]\n",
    "lcq = [i**2 for i in range(10)]\n",
    "lcm = [lettera.upper() for lettera in lower]\n",
    "\n",
    "print(lcl)\n",
    "print(lcq)\n",
    "print(lcm)\n"
   ]
  },
  {
   "cell_type": "markdown",
   "metadata": {},
   "source": [
    "### **2. Vettore di Numeri Primi**\n",
    "\n",
    "1. **Crea un vettore** contenente tutti i numeri primi compresi tra **0 e 10**  \n",
    "   _(Puoi scriverli direttamente nell'array)._\n",
    "\n",
    "2. **Conta quanti numeri ci sono nel vettore** utilizzando la funzione `len()`.  **Ottieni lo stesso numero** accedendo all'attributo `.size` del vettore.\n",
    "\n",
    "3. Quale pensi sia il tipo di dato (`dtype`) del vettore?  Prova a rispondere senza eseguire il codice e Verifica la tua risposta accedendo all'attributo `.dtype` del vettore\n",
    "\n",
    "4. Scrivi l'array usando una list comprehension che controlla che i numeri siano primi. "
   ]
  },
  {
   "cell_type": "code",
   "execution_count": null,
   "metadata": {},
   "outputs": [
    {
     "name": "stdout",
     "output_type": "stream",
     "text": [
      "4 4\n",
      "int64\n",
      "[2, 3, 5, 7]\n"
     ]
    }
   ],
   "source": [
    "import numpy as np\n",
    "a = np.array([2, 3, 5, 7])\n",
    "print(len(a), a.size)\n",
    "\n",
    "# il tipo di dato sarà integer\n",
    "print(a.dtype)\n",
    "\n",
    "def primo(n):\n",
    "    if n <= 1:\n",
    "        return False\n",
    "    for i in range(2,n):\n",
    "        if n % i == 0:\n",
    "            return False\n",
    "    return True\n",
    "lc = [i for i in range(11) if primo(i)]"
   ]
  },
  {
   "cell_type": "markdown",
   "metadata": {},
   "source": [
    "### **3.  Operazioni su array**\n",
    "Crea un array **a**, 1D (senza digitarlo esplicitamente), e genera due nuovi array **b**, contenente una sottostringa a piacere e **c** che è il reverse dell'array **a** (esempio [1,2,3] diventa [3,2,1]) .  Dividi l'array **a** per l'array **c**. Fai la stessa cosa per una lista."
   ]
  },
  {
   "cell_type": "code",
   "execution_count": 23,
   "metadata": {},
   "outputs": [
    {
     "name": "stdout",
     "output_type": "stream",
     "text": [
      "[ 1  2  3  4  5  6  7  8  9 10] [1 2 3 4 5] [10  9  8  7  6  5  4  3  2  1]\n",
      "[ 0.1   0.22  0.38  0.57  0.83  1.2   1.75  2.67  4.5  10.  ]\n",
      "[1, 2, 3, 4, 5, 6, 7, 8, 9, 10] [1, 2, 3, 4, 5] [10, 9, 8, 7, 6, 5, 4, 3, 2, 1]\n",
      "[0.1, 0.2222222222222222, 0.375, 0.5714285714285714, 0.8333333333333334, 1.2, 1.75, 2.6666666666666665, 4.5, 10.0]\n"
     ]
    }
   ],
   "source": [
    "a = np.arange(1,11)\n",
    "b = a[:5]\n",
    "c = a[::-1]\n",
    "div = np.round(a/c, 2)\n",
    "\n",
    "print(a, b, c)\n",
    "print(div)\n",
    "\n",
    "a = list(range(1, 11))\n",
    "b = a[:5]\n",
    "c = a[::-1] \n",
    "div = [a[i]/c[i] for i in range(len(a))]\n",
    "print(a, b, c)\n",
    "print(div)"
   ]
  }
 ],
 "metadata": {
  "kernelspec": {
   "display_name": "Python 3",
   "language": "python",
   "name": "python3"
  },
  "language_info": {
   "codemirror_mode": {
    "name": "ipython",
    "version": 3
   },
   "file_extension": ".py",
   "mimetype": "text/x-python",
   "name": "python",
   "nbconvert_exporter": "python",
   "pygments_lexer": "ipython3",
   "version": "3.12.9"
  }
 },
 "nbformat": 4,
 "nbformat_minor": 2
}
