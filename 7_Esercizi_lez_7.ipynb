{
 "cells": [
  {
   "cell_type": "markdown",
   "id": "25c2e0fa",
   "metadata": {},
   "source": [
    "### Es 1\n",
    "Hai a disposizione un file `data.csv` contenente dati mensili di passeggeri con due colonne:\n",
    "\n",
    "- `date`: data in formato `YYYY-MM` (mese/anno)\n",
    "- `passengers`: numero di passeggeri per quel mese\n",
    "\n",
    "\n",
    "Costruisci un modello di **regressione polinomiale** che approssima l’andamento del numero di passeggeri nel tempo.\n",
    "\n",
    "1. Carica il dataset.\n",
    "2. Convertilo in un formato numerico utilizzando una colonna `mese_numerico` che conti i mesi a partire da gennaio 1949.\n",
    "3. Applica una regressione polinomiale (grado a tua scelta).\n",
    "4. Calcola l’RMSE tra i valori reali e quelli predetti.\n",
    "5. Visualizza i dati reali e la curva stimata con Plotly."
   ]
  },
  {
   "cell_type": "code",
   "execution_count": null,
   "id": "e05dd39e",
   "metadata": {},
   "outputs": [],
   "source": [
    "import numpy as np\n",
    "import pandas as pd\n",
    "import matplotlib.pyplot as plt\n",
    "import seaborn as sns\n",
    "from sklearn.preprocessing import PolynomialFeatures\n",
    "from sklearn.model_selection import train_test_split\n",
    "from sklearn.pipeline import make_pipeline\n",
    "from sklearn.linear_model import LinearRegression"
   ]
  },
  {
   "cell_type": "code",
   "execution_count": null,
   "id": "b31efb5f",
   "metadata": {},
   "outputs": [],
   "source": [
    "df = pd.read_csv('data.csv')\n",
    "print(df.shape)\n",
    "df.head(10)"
   ]
  },
  {
   "cell_type": "code",
   "execution_count": null,
   "id": "cb4fdb10",
   "metadata": {},
   "outputs": [],
   "source": [
    "df.dropna(subset=['passengers'], inplace=True)"
   ]
  },
  {
   "cell_type": "code",
   "execution_count": null,
   "id": "1a8bc6de",
   "metadata": {},
   "outputs": [],
   "source": [
    "# Assegno un indice progressivo ai mesi\n",
    "df[\"mese_numerico\"] = range(len(df))\n",
    "\n",
    "X = df[[\"mese_numerico\"]].values\n",
    "y = df[\"passengers\"].values\n",
    "\n",
    "plt.figure(figsize=(12, 6))\n",
    "plt.plot(X, y, marker='o', linestyle='-')\n",
    "plt.title('Passeggri')\n",
    "plt.xlabel('Date')\n",
    "plt.ylabel('Passeggeri')\n",
    "plt.grid(True)\n",
    "plt.show()"
   ]
  },
  {
   "cell_type": "code",
   "execution_count": null,
   "id": "bcae9692",
   "metadata": {},
   "outputs": [],
   "source": [
    "# train test split\n",
    "X_train, X_test, y_train, y_test = train_test_split(X, y, train_size=90, shuffle=False)\n",
    "\n",
    "model_poly2 = make_pipeline(PolynomialFeatures(2), LinearRegression())\n",
    "model_poly2.fit(X_train, y_train)\n",
    "y_pred_poly2 = model_poly2.predict(X_test)\n",
    "\n",
    "plt.figure(figsize=(10, 5))\n",
    "plt.scatter(X, y, label=\"Dati\", color=\"blue\")\n",
    "plt.plot(X_test, y_pred_poly2, label=f\"Polinomiale grado 2\", color=\"green\")\n",
    "plt.xlabel(\"Indice Mese\")\n",
    "plt.ylabel(\"Passeggeri\")\n",
    "plt.title(\"Regressione polinomiale\")\n",
    "plt.legend()\n",
    "plt.grid(True)\n",
    "plt.show()"
   ]
  },
  {
   "cell_type": "code",
   "execution_count": null,
   "id": "d938647e",
   "metadata": {},
   "outputs": [],
   "source": [
    "from sklearn.metrics import mean_absolute_error\n",
    "from sklearn.metrics import root_mean_squared_error\n",
    "\n",
    "mae =  mean_absolute_error(y_test, y_pred_poly2)\n",
    "rmse =  root_mean_squared_error(y_test, y_pred_poly2)\n",
    "print(f'MAE: {mae}\\nRMSE: {rmse}')"
   ]
  },
  {
   "cell_type": "markdown",
   "id": "640ee914",
   "metadata": {},
   "source": [
    "### Es2. \n",
    "Costruisci una web app con Dash che permette all’utente di scegliere il grado del polinomio per adattare un modello di regressione ai dati non lineari e vedere il risultato aggiornarsi dinamicamente.\n",
    "\n",
    "\n",
    "1. Genera 100 punti x tra -3 e 3.\n",
    "\n",
    "2. Calcola ad esempio y = x³ - x + rumore.\n",
    "\n",
    "3. Costruisci un'interfaccia Dash con:\n",
    "    - uno slider per scegliere il grado del polinomio (1–10),\n",
    "    - un grafico Plotly che mostra i dati e la curva stimata.\n",
    "\n",
    "4. Usa PolynomialFeatures + LinearRegression da scikit-learn per stimare la curva"
   ]
  },
  {
   "cell_type": "code",
   "execution_count": null,
   "id": "51e863ea",
   "metadata": {},
   "outputs": [],
   "source": [
    "import numpy as np\n",
    "import pandas as pd\n",
    "from sklearn.linear_model import LinearRegression\n",
    "from sklearn.preprocessing import PolynomialFeatures\n",
    "\n",
    "import dash\n",
    "from dash import Dash, dcc, html, Input, Output\n",
    "import plotly.graph_objs as go\n",
    "\n",
    "# 1\n",
    "x = np.linspace(-3, 3, 100)\n",
    "\n",
    "# 2\n",
    "noise = np.random.normal(0, 3, size=x.shape)\n",
    "y = x**3 - x + noise\n",
    "\n",
    "# costruisco un DataFrame\n",
    "df = pd.DataFrame({'x': x, 'y': y})\n",
    "\n",
    "\n",
    "def regressione(df, deg):\n",
    "    X = df[['x']].values\n",
    "    y = df['y'].values\n",
    "\n",
    "    poly = PolynomialFeatures(degree=deg)\n",
    "    X_poly = poly.fit_transform(X)\n",
    "    model = LinearRegression().fit(X_poly, y)\n",
    "\n",
    "    x_plot = np.linspace(df['x'].min(), df['x'].max(), 300)\n",
    "    X_plot_poly = poly.transform(x_plot.reshape(-1, 1))\n",
    "    y_plot = model.predict(X_plot_poly)\n",
    "    return x_plot, y_plot\n",
    "\n",
    "# 3\n",
    "app = Dash(__name__)\n",
    "\n",
    "app.layout = html.Div([\n",
    "    html.H1(\"Regressione Polinomiale Interattiva\"),\n",
    "    dcc.Slider(\n",
    "        id='degree-slider',\n",
    "        min=1,\n",
    "        max=10,\n",
    "        step=1,\n",
    "        value=3,\n",
    "        marks={i: str(i) for i in range(1, 11)},\n",
    "        tooltip={\"placement\": \"bottom\", \"always_visible\": True}\n",
    "    ),\n",
    "    dcc.Graph(id='poly-regression-plot')\n",
    "])\n",
    "\n",
    "\n",
    "@app.callback(\n",
    "    Output('poly-regression-plot', 'figure'),\n",
    "    Input('degree-slider', 'value')\n",
    ")\n",
    "def update_poly_graph(degree):\n",
    "    x_plot, y_plot = regressione(df, degree)\n",
    "\n",
    "    # Grafico Plotly\n",
    "    fig = go.Figure()\n",
    "    fig.add_trace(go.Scatter(\n",
    "        x=df['x'], y=df['y'],\n",
    "        mode='markers',\n",
    "        name='Dati osservati',\n",
    "        marker=dict(color='black', opacity=0.6)\n",
    "    ))\n",
    "    fig.add_trace(go.Scatter(\n",
    "        x=x_plot, y=y_plot,\n",
    "        mode='lines',\n",
    "        name=f'Regressione polinomiale (grado {degree})',\n",
    "        line=dict(color='red', width=2)\n",
    "    ))\n",
    "    fig.update_layout(\n",
    "        xaxis_title='x',\n",
    "        yaxis_title='y',\n",
    "        title=f\"Adattamento polinomiale di grado {degree}\"\n",
    "    )\n",
    "    return fig\n"
   ]
  },
  {
   "cell_type": "code",
   "execution_count": null,
   "id": "d1b2b364",
   "metadata": {},
   "outputs": [],
   "source": [
    "if __name__ == '__main__':\n",
    "    app.run_server(debug=True)"
   ]
  }
 ],
 "metadata": {
  "kernelspec": {
   "display_name": "proglab2",
   "language": "python",
   "name": "python3"
  },
  "language_info": {
   "codemirror_mode": {
    "name": "ipython",
    "version": 3
   },
   "file_extension": ".py",
   "mimetype": "text/x-python",
   "name": "python",
   "nbconvert_exporter": "python",
   "pygments_lexer": "ipython3",
   "version": "3.12.11"
  }
 },
 "nbformat": 4,
 "nbformat_minor": 5
}
